{
 "cells": [
  {
   "cell_type": "markdown",
   "id": "e7b63f7f",
   "metadata": {},
   "source": [
    "Project ini mengikuti referensi dari **Machine learning predicts live‐birth\n",
    "occurrence before in‐vitro fertilization treatment**\n",
    "\n",
    "oleh Ashish Goyal, Maheshwar Kuchana & Kameswari Prasada Rao Ayyagari"
   ]
  },
  {
   "cell_type": "markdown",
   "id": "26baea7c",
   "metadata": {},
   "source": [
    "link github = https://github.com/zain3ie/pm_dev"
   ]
  },
  {
   "cell_type": "code",
   "execution_count": 54,
   "id": "bdcdda79",
   "metadata": {},
   "outputs": [],
   "source": [
    "import numpy as np\n",
    "import pandas as pd\n",
    "import joblib\n",
    "\n",
    "from sklearn.model_selection import train_test_split\n",
    "from sklearn.ensemble import RandomForestClassifier\n",
    "from sklearn.model_selection import RandomizedSearchCV\n",
    "from sklearn import metrics"
   ]
  },
  {
   "cell_type": "code",
   "execution_count": 2,
   "id": "27c8d2be",
   "metadata": {},
   "outputs": [],
   "source": [
    "df1 = pd.read_excel('../data/ar-2010-2014-xlsb.xlsb', engine='pyxlsb')"
   ]
  },
  {
   "cell_type": "code",
   "execution_count": 3,
   "id": "a9a990f6",
   "metadata": {},
   "outputs": [],
   "source": [
    "df2 = pd.read_excel('../data/ar-2015-2016-xlsb.xlsb', engine='pyxlsb')"
   ]
  },
  {
   "cell_type": "code",
   "execution_count": 4,
   "id": "f02a8a73",
   "metadata": {},
   "outputs": [],
   "source": [
    "df = pd.concat([df1.copy(), df2.copy()])"
   ]
  },
  {
   "cell_type": "code",
   "execution_count": 5,
   "id": "d82e52b8",
   "metadata": {},
   "outputs": [
    {
     "data": {
      "text/html": [
       "<div>\n",
       "<style scoped>\n",
       "    .dataframe tbody tr th:only-of-type {\n",
       "        vertical-align: middle;\n",
       "    }\n",
       "\n",
       "    .dataframe tbody tr th {\n",
       "        vertical-align: top;\n",
       "    }\n",
       "\n",
       "    .dataframe thead th {\n",
       "        text-align: right;\n",
       "    }\n",
       "</style>\n",
       "<table border=\"1\" class=\"dataframe\">\n",
       "  <thead>\n",
       "    <tr style=\"text-align: right;\">\n",
       "      <th></th>\n",
       "      <th>Patient Age at Treatment</th>\n",
       "      <th>Date patient started trying to become pregnant OR date of last pregnancy</th>\n",
       "      <th>Total Number of Previous cycles, Both IVF and DI</th>\n",
       "      <th>Total Number of Previous treatments, Both IVF and DI at clinic</th>\n",
       "      <th>Total Number of Previous IVF cycles</th>\n",
       "      <th>Total Number of Previous DI cycles</th>\n",
       "      <th>Total number of previous pregnancies, Both IVF and DI</th>\n",
       "      <th>Total number of IVF pregnancies</th>\n",
       "      <th>Total number of DI pregnancies</th>\n",
       "      <th>Total number of live births - conceived through IVF or DI</th>\n",
       "      <th>...</th>\n",
       "      <th>Heart Three Birth Weight</th>\n",
       "      <th>Heart Three Sex</th>\n",
       "      <th>Heart Three Delivery Date</th>\n",
       "      <th>Heart Three Birth Congenital Abnormalities</th>\n",
       "      <th>Heart Four Weeks Gestation</th>\n",
       "      <th>Heart Four Birth Outcome</th>\n",
       "      <th>Heart Four Birth Weight</th>\n",
       "      <th>Heart Four Sex</th>\n",
       "      <th>Heart Four Delivery Date</th>\n",
       "      <th>Heart Four Birth Congenital Abnormalities</th>\n",
       "    </tr>\n",
       "  </thead>\n",
       "  <tbody>\n",
       "    <tr>\n",
       "      <th>0</th>\n",
       "      <td>18 - 34</td>\n",
       "      <td>NaN</td>\n",
       "      <td>1</td>\n",
       "      <td>1</td>\n",
       "      <td>0</td>\n",
       "      <td>1</td>\n",
       "      <td>0</td>\n",
       "      <td>0</td>\n",
       "      <td>0</td>\n",
       "      <td>0</td>\n",
       "      <td>...</td>\n",
       "      <td>NaN</td>\n",
       "      <td>NaN</td>\n",
       "      <td>NaN</td>\n",
       "      <td>NaN</td>\n",
       "      <td>NaN</td>\n",
       "      <td>NaN</td>\n",
       "      <td>NaN</td>\n",
       "      <td>NaN</td>\n",
       "      <td>NaN</td>\n",
       "      <td>NaN</td>\n",
       "    </tr>\n",
       "    <tr>\n",
       "      <th>1</th>\n",
       "      <td>35-37</td>\n",
       "      <td>NaN</td>\n",
       "      <td>0</td>\n",
       "      <td>0</td>\n",
       "      <td>0</td>\n",
       "      <td>0</td>\n",
       "      <td>0</td>\n",
       "      <td>0</td>\n",
       "      <td>0</td>\n",
       "      <td>0</td>\n",
       "      <td>...</td>\n",
       "      <td>NaN</td>\n",
       "      <td>NaN</td>\n",
       "      <td>NaN</td>\n",
       "      <td>NaN</td>\n",
       "      <td>NaN</td>\n",
       "      <td>NaN</td>\n",
       "      <td>NaN</td>\n",
       "      <td>NaN</td>\n",
       "      <td>NaN</td>\n",
       "      <td>NaN</td>\n",
       "    </tr>\n",
       "    <tr>\n",
       "      <th>2</th>\n",
       "      <td>18 - 34</td>\n",
       "      <td>NaN</td>\n",
       "      <td>0</td>\n",
       "      <td>0</td>\n",
       "      <td>0</td>\n",
       "      <td>0</td>\n",
       "      <td>0</td>\n",
       "      <td>0</td>\n",
       "      <td>0</td>\n",
       "      <td>0</td>\n",
       "      <td>...</td>\n",
       "      <td>NaN</td>\n",
       "      <td>NaN</td>\n",
       "      <td>NaN</td>\n",
       "      <td>NaN</td>\n",
       "      <td>NaN</td>\n",
       "      <td>NaN</td>\n",
       "      <td>NaN</td>\n",
       "      <td>NaN</td>\n",
       "      <td>NaN</td>\n",
       "      <td>NaN</td>\n",
       "    </tr>\n",
       "    <tr>\n",
       "      <th>3</th>\n",
       "      <td>38-39</td>\n",
       "      <td>NaN</td>\n",
       "      <td>1</td>\n",
       "      <td>1</td>\n",
       "      <td>0</td>\n",
       "      <td>1</td>\n",
       "      <td>0</td>\n",
       "      <td>0</td>\n",
       "      <td>0</td>\n",
       "      <td>0</td>\n",
       "      <td>...</td>\n",
       "      <td>NaN</td>\n",
       "      <td>NaN</td>\n",
       "      <td>NaN</td>\n",
       "      <td>NaN</td>\n",
       "      <td>NaN</td>\n",
       "      <td>NaN</td>\n",
       "      <td>NaN</td>\n",
       "      <td>NaN</td>\n",
       "      <td>NaN</td>\n",
       "      <td>NaN</td>\n",
       "    </tr>\n",
       "    <tr>\n",
       "      <th>4</th>\n",
       "      <td>35-37</td>\n",
       "      <td>NaN</td>\n",
       "      <td>0</td>\n",
       "      <td>0</td>\n",
       "      <td>0</td>\n",
       "      <td>0</td>\n",
       "      <td>0</td>\n",
       "      <td>0</td>\n",
       "      <td>0</td>\n",
       "      <td>0</td>\n",
       "      <td>...</td>\n",
       "      <td>NaN</td>\n",
       "      <td>NaN</td>\n",
       "      <td>NaN</td>\n",
       "      <td>NaN</td>\n",
       "      <td>NaN</td>\n",
       "      <td>NaN</td>\n",
       "      <td>NaN</td>\n",
       "      <td>NaN</td>\n",
       "      <td>NaN</td>\n",
       "      <td>NaN</td>\n",
       "    </tr>\n",
       "  </tbody>\n",
       "</table>\n",
       "<p>5 rows × 95 columns</p>\n",
       "</div>"
      ],
      "text/plain": [
       "  Patient Age at Treatment  \\\n",
       "0                  18 - 34   \n",
       "1                    35-37   \n",
       "2                  18 - 34   \n",
       "3                    38-39   \n",
       "4                    35-37   \n",
       "\n",
       "   Date patient started trying to become pregnant OR date of last pregnancy  \\\n",
       "0                                                NaN                          \n",
       "1                                                NaN                          \n",
       "2                                                NaN                          \n",
       "3                                                NaN                          \n",
       "4                                                NaN                          \n",
       "\n",
       "  Total Number of Previous cycles, Both IVF and DI  \\\n",
       "0                                                1   \n",
       "1                                                0   \n",
       "2                                                0   \n",
       "3                                                1   \n",
       "4                                                0   \n",
       "\n",
       "  Total Number of Previous treatments, Both IVF and DI at clinic  \\\n",
       "0                                                  1               \n",
       "1                                                  0               \n",
       "2                                                  0               \n",
       "3                                                  1               \n",
       "4                                                  0               \n",
       "\n",
       "  Total Number of Previous IVF cycles Total Number of Previous DI cycles  \\\n",
       "0                                   0                                  1   \n",
       "1                                   0                                  0   \n",
       "2                                   0                                  0   \n",
       "3                                   0                                  1   \n",
       "4                                   0                                  0   \n",
       "\n",
       "  Total number of previous pregnancies, Both IVF and DI  \\\n",
       "0                                                  0      \n",
       "1                                                  0      \n",
       "2                                                  0      \n",
       "3                                                  0      \n",
       "4                                                  0      \n",
       "\n",
       "  Total number of IVF pregnancies  Total number of DI pregnancies  \\\n",
       "0                               0                               0   \n",
       "1                               0                               0   \n",
       "2                               0                               0   \n",
       "3                               0                               0   \n",
       "4                               0                               0   \n",
       "\n",
       "  Total number of live births - conceived through IVF or DI  ...  \\\n",
       "0                                                  0         ...   \n",
       "1                                                  0         ...   \n",
       "2                                                  0         ...   \n",
       "3                                                  0         ...   \n",
       "4                                                  0         ...   \n",
       "\n",
       "   Heart Three Birth Weight  Heart Three Sex  Heart Three Delivery Date  \\\n",
       "0                       NaN              NaN                        NaN   \n",
       "1                       NaN              NaN                        NaN   \n",
       "2                       NaN              NaN                        NaN   \n",
       "3                       NaN              NaN                        NaN   \n",
       "4                       NaN              NaN                        NaN   \n",
       "\n",
       "   Heart Three Birth Congenital Abnormalities  Heart Four Weeks Gestation  \\\n",
       "0                                         NaN                         NaN   \n",
       "1                                         NaN                         NaN   \n",
       "2                                         NaN                         NaN   \n",
       "3                                         NaN                         NaN   \n",
       "4                                         NaN                         NaN   \n",
       "\n",
       "   Heart Four Birth Outcome  Heart Four Birth Weight  Heart Four Sex  \\\n",
       "0                       NaN                      NaN             NaN   \n",
       "1                       NaN                      NaN             NaN   \n",
       "2                       NaN                      NaN             NaN   \n",
       "3                       NaN                      NaN             NaN   \n",
       "4                       NaN                      NaN             NaN   \n",
       "\n",
       "   Heart Four Delivery Date  Heart Four Birth Congenital Abnormalities  \n",
       "0                       NaN                                        NaN  \n",
       "1                       NaN                                        NaN  \n",
       "2                       NaN                                        NaN  \n",
       "3                       NaN                                        NaN  \n",
       "4                       NaN                                        NaN  \n",
       "\n",
       "[5 rows x 95 columns]"
      ]
     },
     "execution_count": 5,
     "metadata": {},
     "output_type": "execute_result"
    }
   ],
   "source": [
    "df.head()"
   ]
  },
  {
   "cell_type": "code",
   "execution_count": 6,
   "id": "401ab5a2",
   "metadata": {},
   "outputs": [
    {
     "name": "stdout",
     "output_type": "stream",
     "text": [
      "<class 'pandas.core.frame.DataFrame'>\n",
      "Int64Index: 495628 entries, 0 to 158518\n",
      "Data columns (total 95 columns):\n",
      " #   Column                                                                    Non-Null Count   Dtype  \n",
      "---  ------                                                                    --------------   -----  \n",
      " 0   Patient Age at Treatment                                                  495628 non-null  object \n",
      " 1   Date patient started trying to become pregnant OR date of last pregnancy  12891 non-null   float64\n",
      " 2   Total Number of Previous cycles, Both IVF and DI                          495628 non-null  object \n",
      " 3   Total Number of Previous treatments, Both IVF and DI at clinic            495628 non-null  object \n",
      " 4   Total Number of Previous IVF cycles                                       495628 non-null  object \n",
      " 5   Total Number of Previous DI cycles                                        495628 non-null  object \n",
      " 6   Total number of previous pregnancies, Both IVF and DI                     495628 non-null  object \n",
      " 7   Total number of IVF pregnancies                                           495628 non-null  object \n",
      " 8   Total number of DI pregnancies                                            495628 non-null  int64  \n",
      " 9   Total number of live births - conceived through IVF or DI                 495628 non-null  object \n",
      " 10  Total number of live births - conceived through IVF                       495628 non-null  int64  \n",
      " 11  Total number of live births - conceived through DI                        495628 non-null  int64  \n",
      " 12  Type of Infertility - Female Primary                                      495628 non-null  int64  \n",
      " 13  Type of Infertility - Female Secondary                                    495628 non-null  int64  \n",
      " 14  Type of Infertility - Male Primary                                        495628 non-null  int64  \n",
      " 15  Type of Infertility - Male Secondary                                      495628 non-null  int64  \n",
      " 16  Type of Infertility -Couple Primary                                       495628 non-null  int64  \n",
      " 17  Type of Infertility -Couple Secondary                                     495628 non-null  int64  \n",
      " 18  Cause  of Infertility - Tubal disease                                     495628 non-null  int64  \n",
      " 19  Cause of Infertility - Ovulatory Disorder                                 495628 non-null  int64  \n",
      " 20  Cause of Infertility - Male Factor                                        495628 non-null  int64  \n",
      " 21  Cause of Infertility - Patient Unexplained                                495628 non-null  int64  \n",
      " 22  Cause of Infertility - Endometriosis                                      495628 non-null  int64  \n",
      " 23  Cause of Infertility - Cervical factors                                   495628 non-null  int64  \n",
      " 24  Cause of Infertility - Female Factors                                     495628 non-null  int64  \n",
      " 25  Cause of Infertility - Partner Sperm Concentration                        495628 non-null  int64  \n",
      " 26  Cause of Infertility -  Partner Sperm Morphology                          495628 non-null  int64  \n",
      " 27  Causes of Infertility - Partner Sperm Motility                            495628 non-null  int64  \n",
      " 28  Cause of Infertility -  Partner Sperm Immunological factors               495628 non-null  int64  \n",
      " 29  Main Reason for Producing Embroys Storing Eggs                            463358 non-null  object \n",
      " 30  Stimulation used                                                          495628 non-null  int64  \n",
      " 31  Type of Ovulation Induction                                               339442 non-null  object \n",
      " 32  Egg Donor Age at Registration                                             21880 non-null   object \n",
      " 33  Sperm Donor Age at Registration                                           61169 non-null   object \n",
      " 34  Donated embryo                                                            463358 non-null  float64\n",
      " 35  Patient acting as Surrogate                                               463358 non-null  float64\n",
      " 36  Type of treatment - IVF or DI                                             495628 non-null  object \n",
      " 37  Specific treatment type                                                   495626 non-null  object \n",
      " 38  PGD                                                                       463358 non-null  float64\n",
      " 39  PGD treatment                                                             3946 non-null    float64\n",
      " 40  PGS                                                                       3702 non-null    float64\n",
      " 41  PGS Treatment                                                             2651 non-null    float64\n",
      " 42  Elective Single Embryo Transfer                                           463358 non-null  float64\n",
      " 43  Egg Source                                                                463358 non-null  object \n",
      " 44  Sperm From                                                                495628 non-null  object \n",
      " 45  Fresh Cycle                                                               463358 non-null  float64\n",
      " 46  Frozen Cycle                                                              463358 non-null  float64\n",
      " 47  Eggs Thawed                                                               463358 non-null  float64\n",
      " 48  Fresh Eggs Collected                                                      463358 non-null  object \n",
      " 49  Fresh Eggs Stored                                                         463358 non-null  object \n",
      " 50  Total Eggs Mixed                                                          463358 non-null  object \n",
      " 51  Eggs Mixed With Partner Sperm                                             463358 non-null  object \n",
      " 52  Eggs Mixed With Donor sperm                                               463358 non-null  object \n",
      " 53  Total Embryos Created                                                     463358 non-null  object \n",
      " 54  Eggs Micro-injected                                                       463358 non-null  object \n",
      " 55  Embryos from Eggs Micro-injected                                          463358 non-null  float64\n",
      " 56  Total Embryos Thawed                                                      463358 non-null  float64\n",
      " 57  Embryos Transfered                                                        463358 non-null  float64\n",
      " 58  Embryos Transfered from Eggs Micro-injected                               463358 non-null  float64\n",
      " 59  Embryos Stored For Use By Patient                                         463358 non-null  object \n",
      " 60  Embryos (from Eggs Micro-injected) Stored For Use By Patient              463358 non-null  object \n",
      " 61  Date of Egg Collection                                                    346414 non-null  float64\n",
      " 62  Date of Egg Thawing                                                       1938 non-null    float64\n",
      " 63  Date of Egg Mixing                                                        329059 non-null  float64\n",
      " 64  Date of Embryo Thawing                                                    102273 non-null  float64\n",
      " 65  Date of Embryo Transfer                                                   383128 non-null  float64\n",
      " 66  Year of Treatment                                                         495628 non-null  int64  \n",
      " 67  Live Birth Occurrence                                                     119210 non-null  float64\n",
      " 68  Number of Live Births                                                     495628 non-null  int64  \n",
      " 69  Early Outcome                                                             415938 non-null  object \n",
      " 70  Number of foetal sacs with fetal pulsation                                495628 non-null  int64  \n",
      " 71  Heart One Weeks Gestation                                                 116693 non-null  object \n",
      " 72  Heart One Birth Outcome                                                   135371 non-null  object \n",
      " 73  Heart One Birth Weight                                                    116176 non-null  object \n",
      " 74  Heart OneSex                                                              116984 non-null  object \n",
      " 75  Heart One Delivery Date                                                   116873 non-null  float64\n",
      " 76  Heart One Birth Congenital Abnormalities                                  0 non-null       float64\n",
      " 77  Heart Two Weeks Gestation                                                 19619 non-null   object \n",
      " 78  Heart Two Birth Outcome                                                   22414 non-null   object \n",
      " 79  Heart Two Birth Weight                                                    19395 non-null   object \n",
      " 80  Heart Two Sex                                                             19632 non-null   object \n",
      " 81  Heart Two Delivery Date                                                   19584 non-null   float64\n",
      " 82  Heart Two Birth Congenital Abnormalities                                  0 non-null       float64\n",
      " 83  Heart Three Weeks Gestation                                               503 non-null     object \n",
      " 84  Heart Three Birth Outcome                                                 693 non-null     object \n",
      " 85  Heart Three Birth Weight                                                  486 non-null     object \n",
      " 86  Heart Three Sex                                                           501 non-null     object \n",
      " 87  Heart Three Delivery Date                                                 496 non-null     float64\n",
      " 88  Heart Three Birth Congenital Abnormalities                                0 non-null       float64\n",
      " 89  Heart Four Weeks Gestation                                                3 non-null       object \n",
      " 90  Heart Four Birth Outcome                                                  8 non-null       object \n",
      " 91  Heart Four Birth Weight                                                   3 non-null       object \n",
      " 92  Heart Four Sex                                                            3 non-null       object \n",
      " 93  Heart Four Delivery Date                                                  3 non-null       float64\n",
      " 94  Heart Four Birth Congenital Abnormalities                                 0 non-null       float64\n",
      "dtypes: float64(29), int64(24), object(42)\n",
      "memory usage: 363.0+ MB\n"
     ]
    }
   ],
   "source": [
    "df.info()"
   ]
  },
  {
   "cell_type": "markdown",
   "id": "e3320067",
   "metadata": {},
   "source": [
    "## Preprocessing"
   ]
  },
  {
   "cell_type": "markdown",
   "id": "b5cdf0f4",
   "metadata": {},
   "source": [
    "Feature-nya banyak sekali. Coba mengurangi feature dengan hanya menggunakan 25 feature yang digunakan di referensi. Dimana menurut referensi, feature yang lain tidak berpengaruh signifikan terhadap hasil."
   ]
  },
  {
   "cell_type": "code",
   "execution_count": 7,
   "id": "5e15b204",
   "metadata": {},
   "outputs": [],
   "source": [
    "ref_feature = [\n",
    "    'Patient Age at Treatment',\n",
    "    'Total Number of Previous IVF cycles',\n",
    "    'Total number of IVF pregnancies',\n",
    "    'Total number of live births - conceived through IVF',\n",
    "    'Type of Infertility - Female Primary',\n",
    "    'Type of Infertility - Female Secondary',\n",
    "    'Type of Infertility - Male Primary',\n",
    "    'Type of Infertility - Male Secondary',\n",
    "    'Type of Infertility -Couple Primary',\n",
    "    'Type of Infertility -Couple Secondary',\n",
    "    'Cause  of Infertility - Tubal disease',\n",
    "    'Cause of Infertility - Ovulatory Disorder',\n",
    "    'Cause of Infertility - Male Factor',\n",
    "    'Cause of Infertility - Patient Unexplained',\n",
    "    'Cause of Infertility - Endometriosis',\n",
    "    'Cause of Infertility - Cervical factors',\n",
    "    'Cause of Infertility - Partner Sperm Concentration',\n",
    "    'Cause of Infertility -  Partner Sperm Morphology',\n",
    "    'Causes of Infertility - Partner Sperm Motility',\n",
    "    'Fresh Cycle',\n",
    "    'Frozen Cycle',\n",
    "    'Eggs Thawed',\n",
    "    'Fresh Eggs Collected',\n",
    "    'Eggs Mixed With Partner Sperm',\n",
    "    'Embryos Transfered',\n",
    "    'Live Birth Occurrence',\n",
    "    'Number of Live Births'\n",
    "]"
   ]
  },
  {
   "cell_type": "code",
   "execution_count": 8,
   "id": "319a0bd9",
   "metadata": {},
   "outputs": [],
   "source": [
    "ref_df = df[ref_feature].copy()"
   ]
  },
  {
   "cell_type": "code",
   "execution_count": 9,
   "id": "0c747e71",
   "metadata": {},
   "outputs": [
    {
     "data": {
      "text/html": [
       "<div>\n",
       "<style scoped>\n",
       "    .dataframe tbody tr th:only-of-type {\n",
       "        vertical-align: middle;\n",
       "    }\n",
       "\n",
       "    .dataframe tbody tr th {\n",
       "        vertical-align: top;\n",
       "    }\n",
       "\n",
       "    .dataframe thead th {\n",
       "        text-align: right;\n",
       "    }\n",
       "</style>\n",
       "<table border=\"1\" class=\"dataframe\">\n",
       "  <thead>\n",
       "    <tr style=\"text-align: right;\">\n",
       "      <th></th>\n",
       "      <th>Patient Age at Treatment</th>\n",
       "      <th>Total Number of Previous IVF cycles</th>\n",
       "      <th>Total number of IVF pregnancies</th>\n",
       "      <th>Total number of live births - conceived through IVF</th>\n",
       "      <th>Type of Infertility - Female Primary</th>\n",
       "      <th>Type of Infertility - Female Secondary</th>\n",
       "      <th>Type of Infertility - Male Primary</th>\n",
       "      <th>Type of Infertility - Male Secondary</th>\n",
       "      <th>Type of Infertility -Couple Primary</th>\n",
       "      <th>Type of Infertility -Couple Secondary</th>\n",
       "      <th>...</th>\n",
       "      <th>Cause of Infertility -  Partner Sperm Morphology</th>\n",
       "      <th>Causes of Infertility - Partner Sperm Motility</th>\n",
       "      <th>Fresh Cycle</th>\n",
       "      <th>Frozen Cycle</th>\n",
       "      <th>Eggs Thawed</th>\n",
       "      <th>Fresh Eggs Collected</th>\n",
       "      <th>Eggs Mixed With Partner Sperm</th>\n",
       "      <th>Embryos Transfered</th>\n",
       "      <th>Live Birth Occurrence</th>\n",
       "      <th>Number of Live Births</th>\n",
       "    </tr>\n",
       "  </thead>\n",
       "  <tbody>\n",
       "    <tr>\n",
       "      <th>0</th>\n",
       "      <td>18 - 34</td>\n",
       "      <td>0</td>\n",
       "      <td>0</td>\n",
       "      <td>0</td>\n",
       "      <td>0</td>\n",
       "      <td>0</td>\n",
       "      <td>0</td>\n",
       "      <td>0</td>\n",
       "      <td>0</td>\n",
       "      <td>0</td>\n",
       "      <td>...</td>\n",
       "      <td>0</td>\n",
       "      <td>0</td>\n",
       "      <td>NaN</td>\n",
       "      <td>NaN</td>\n",
       "      <td>NaN</td>\n",
       "      <td>NaN</td>\n",
       "      <td>NaN</td>\n",
       "      <td>NaN</td>\n",
       "      <td>1.0</td>\n",
       "      <td>2</td>\n",
       "    </tr>\n",
       "    <tr>\n",
       "      <th>1</th>\n",
       "      <td>35-37</td>\n",
       "      <td>0</td>\n",
       "      <td>0</td>\n",
       "      <td>0</td>\n",
       "      <td>0</td>\n",
       "      <td>0</td>\n",
       "      <td>0</td>\n",
       "      <td>0</td>\n",
       "      <td>0</td>\n",
       "      <td>0</td>\n",
       "      <td>...</td>\n",
       "      <td>0</td>\n",
       "      <td>0</td>\n",
       "      <td>NaN</td>\n",
       "      <td>NaN</td>\n",
       "      <td>NaN</td>\n",
       "      <td>NaN</td>\n",
       "      <td>NaN</td>\n",
       "      <td>NaN</td>\n",
       "      <td>NaN</td>\n",
       "      <td>0</td>\n",
       "    </tr>\n",
       "    <tr>\n",
       "      <th>2</th>\n",
       "      <td>18 - 34</td>\n",
       "      <td>0</td>\n",
       "      <td>0</td>\n",
       "      <td>0</td>\n",
       "      <td>0</td>\n",
       "      <td>0</td>\n",
       "      <td>0</td>\n",
       "      <td>0</td>\n",
       "      <td>0</td>\n",
       "      <td>0</td>\n",
       "      <td>...</td>\n",
       "      <td>0</td>\n",
       "      <td>0</td>\n",
       "      <td>NaN</td>\n",
       "      <td>NaN</td>\n",
       "      <td>NaN</td>\n",
       "      <td>NaN</td>\n",
       "      <td>NaN</td>\n",
       "      <td>NaN</td>\n",
       "      <td>1.0</td>\n",
       "      <td>2</td>\n",
       "    </tr>\n",
       "    <tr>\n",
       "      <th>3</th>\n",
       "      <td>38-39</td>\n",
       "      <td>0</td>\n",
       "      <td>0</td>\n",
       "      <td>0</td>\n",
       "      <td>0</td>\n",
       "      <td>0</td>\n",
       "      <td>0</td>\n",
       "      <td>0</td>\n",
       "      <td>0</td>\n",
       "      <td>0</td>\n",
       "      <td>...</td>\n",
       "      <td>0</td>\n",
       "      <td>0</td>\n",
       "      <td>NaN</td>\n",
       "      <td>NaN</td>\n",
       "      <td>NaN</td>\n",
       "      <td>NaN</td>\n",
       "      <td>NaN</td>\n",
       "      <td>NaN</td>\n",
       "      <td>NaN</td>\n",
       "      <td>0</td>\n",
       "    </tr>\n",
       "    <tr>\n",
       "      <th>4</th>\n",
       "      <td>35-37</td>\n",
       "      <td>0</td>\n",
       "      <td>0</td>\n",
       "      <td>0</td>\n",
       "      <td>0</td>\n",
       "      <td>0</td>\n",
       "      <td>0</td>\n",
       "      <td>0</td>\n",
       "      <td>0</td>\n",
       "      <td>0</td>\n",
       "      <td>...</td>\n",
       "      <td>0</td>\n",
       "      <td>0</td>\n",
       "      <td>NaN</td>\n",
       "      <td>NaN</td>\n",
       "      <td>NaN</td>\n",
       "      <td>NaN</td>\n",
       "      <td>NaN</td>\n",
       "      <td>NaN</td>\n",
       "      <td>NaN</td>\n",
       "      <td>0</td>\n",
       "    </tr>\n",
       "  </tbody>\n",
       "</table>\n",
       "<p>5 rows × 27 columns</p>\n",
       "</div>"
      ],
      "text/plain": [
       "  Patient Age at Treatment Total Number of Previous IVF cycles  \\\n",
       "0                  18 - 34                                   0   \n",
       "1                    35-37                                   0   \n",
       "2                  18 - 34                                   0   \n",
       "3                    38-39                                   0   \n",
       "4                    35-37                                   0   \n",
       "\n",
       "  Total number of IVF pregnancies  \\\n",
       "0                               0   \n",
       "1                               0   \n",
       "2                               0   \n",
       "3                               0   \n",
       "4                               0   \n",
       "\n",
       "   Total number of live births - conceived through IVF  \\\n",
       "0                                                  0     \n",
       "1                                                  0     \n",
       "2                                                  0     \n",
       "3                                                  0     \n",
       "4                                                  0     \n",
       "\n",
       "   Type of Infertility - Female Primary  \\\n",
       "0                                     0   \n",
       "1                                     0   \n",
       "2                                     0   \n",
       "3                                     0   \n",
       "4                                     0   \n",
       "\n",
       "   Type of Infertility - Female Secondary  Type of Infertility - Male Primary  \\\n",
       "0                                       0                                   0   \n",
       "1                                       0                                   0   \n",
       "2                                       0                                   0   \n",
       "3                                       0                                   0   \n",
       "4                                       0                                   0   \n",
       "\n",
       "   Type of Infertility - Male Secondary  Type of Infertility -Couple Primary  \\\n",
       "0                                     0                                    0   \n",
       "1                                     0                                    0   \n",
       "2                                     0                                    0   \n",
       "3                                     0                                    0   \n",
       "4                                     0                                    0   \n",
       "\n",
       "   Type of Infertility -Couple Secondary  ...  \\\n",
       "0                                      0  ...   \n",
       "1                                      0  ...   \n",
       "2                                      0  ...   \n",
       "3                                      0  ...   \n",
       "4                                      0  ...   \n",
       "\n",
       "   Cause of Infertility -  Partner Sperm Morphology  \\\n",
       "0                                                 0   \n",
       "1                                                 0   \n",
       "2                                                 0   \n",
       "3                                                 0   \n",
       "4                                                 0   \n",
       "\n",
       "   Causes of Infertility - Partner Sperm Motility  Fresh Cycle  Frozen Cycle  \\\n",
       "0                                               0          NaN           NaN   \n",
       "1                                               0          NaN           NaN   \n",
       "2                                               0          NaN           NaN   \n",
       "3                                               0          NaN           NaN   \n",
       "4                                               0          NaN           NaN   \n",
       "\n",
       "   Eggs Thawed  Fresh Eggs Collected  Eggs Mixed With Partner Sperm  \\\n",
       "0          NaN                   NaN                            NaN   \n",
       "1          NaN                   NaN                            NaN   \n",
       "2          NaN                   NaN                            NaN   \n",
       "3          NaN                   NaN                            NaN   \n",
       "4          NaN                   NaN                            NaN   \n",
       "\n",
       "   Embryos Transfered  Live Birth Occurrence  Number of Live Births  \n",
       "0                 NaN                    1.0                      2  \n",
       "1                 NaN                    NaN                      0  \n",
       "2                 NaN                    1.0                      2  \n",
       "3                 NaN                    NaN                      0  \n",
       "4                 NaN                    NaN                      0  \n",
       "\n",
       "[5 rows x 27 columns]"
      ]
     },
     "execution_count": 9,
     "metadata": {},
     "output_type": "execute_result"
    }
   ],
   "source": [
    "ref_df.head()"
   ]
  },
  {
   "cell_type": "code",
   "execution_count": 10,
   "id": "5740988f",
   "metadata": {},
   "outputs": [
    {
     "name": "stdout",
     "output_type": "stream",
     "text": [
      "<class 'pandas.core.frame.DataFrame'>\n",
      "Int64Index: 495628 entries, 0 to 158518\n",
      "Data columns (total 27 columns):\n",
      " #   Column                                               Non-Null Count   Dtype  \n",
      "---  ------                                               --------------   -----  \n",
      " 0   Patient Age at Treatment                             495628 non-null  object \n",
      " 1   Total Number of Previous IVF cycles                  495628 non-null  object \n",
      " 2   Total number of IVF pregnancies                      495628 non-null  object \n",
      " 3   Total number of live births - conceived through IVF  495628 non-null  int64  \n",
      " 4   Type of Infertility - Female Primary                 495628 non-null  int64  \n",
      " 5   Type of Infertility - Female Secondary               495628 non-null  int64  \n",
      " 6   Type of Infertility - Male Primary                   495628 non-null  int64  \n",
      " 7   Type of Infertility - Male Secondary                 495628 non-null  int64  \n",
      " 8   Type of Infertility -Couple Primary                  495628 non-null  int64  \n",
      " 9   Type of Infertility -Couple Secondary                495628 non-null  int64  \n",
      " 10  Cause  of Infertility - Tubal disease                495628 non-null  int64  \n",
      " 11  Cause of Infertility - Ovulatory Disorder            495628 non-null  int64  \n",
      " 12  Cause of Infertility - Male Factor                   495628 non-null  int64  \n",
      " 13  Cause of Infertility - Patient Unexplained           495628 non-null  int64  \n",
      " 14  Cause of Infertility - Endometriosis                 495628 non-null  int64  \n",
      " 15  Cause of Infertility - Cervical factors              495628 non-null  int64  \n",
      " 16  Cause of Infertility - Partner Sperm Concentration   495628 non-null  int64  \n",
      " 17  Cause of Infertility -  Partner Sperm Morphology     495628 non-null  int64  \n",
      " 18  Causes of Infertility - Partner Sperm Motility       495628 non-null  int64  \n",
      " 19  Fresh Cycle                                          463358 non-null  float64\n",
      " 20  Frozen Cycle                                         463358 non-null  float64\n",
      " 21  Eggs Thawed                                          463358 non-null  float64\n",
      " 22  Fresh Eggs Collected                                 463358 non-null  object \n",
      " 23  Eggs Mixed With Partner Sperm                        463358 non-null  object \n",
      " 24  Embryos Transfered                                   463358 non-null  float64\n",
      " 25  Live Birth Occurrence                                119210 non-null  float64\n",
      " 26  Number of Live Births                                495628 non-null  int64  \n",
      "dtypes: float64(5), int64(17), object(5)\n",
      "memory usage: 105.9+ MB\n"
     ]
    }
   ],
   "source": [
    "ref_df.info()"
   ]
  },
  {
   "cell_type": "markdown",
   "id": "6227af8f",
   "metadata": {},
   "source": [
    "### Feature : Patient Age at Treatment"
   ]
  },
  {
   "cell_type": "markdown",
   "id": "f21efb8f",
   "metadata": {},
   "source": [
    "Feature **Patient Age at Treatment**, diubah menjadi kategorikal data dengan aturan sbb:\n",
    "\n",
    "1. 18–34 is converted to 0\n",
    "2. 35–37 is converted to 1\n",
    "3. 38–39 is converted to 2\n",
    "4. 40–42 is converted to 3\n",
    "5. 43–44 is converted to 4\n",
    "6. 45–50 is converted to 5\n",
    "\n",
    "Sedangkan yang isinya 999, kita drop"
   ]
  },
  {
   "cell_type": "code",
   "execution_count": 11,
   "id": "b6bcc3e0",
   "metadata": {},
   "outputs": [],
   "source": [
    "prep_df = ref_df.copy()"
   ]
  },
  {
   "cell_type": "code",
   "execution_count": 12,
   "id": "a761c3c7",
   "metadata": {},
   "outputs": [
    {
     "data": {
      "text/plain": [
       "array(['18 - 34', '35-37', '38-39', '45-50', '40-42', '43-44', '999'],\n",
       "      dtype=object)"
      ]
     },
     "execution_count": 12,
     "metadata": {},
     "output_type": "execute_result"
    }
   ],
   "source": [
    "prep_df['Patient Age at Treatment'].unique()"
   ]
  },
  {
   "cell_type": "code",
   "execution_count": 13,
   "id": "758d60de",
   "metadata": {},
   "outputs": [],
   "source": [
    "prep_df = prep_df[prep_df['Patient Age at Treatment'] != '999']"
   ]
  },
  {
   "cell_type": "code",
   "execution_count": 14,
   "id": "8f35e26d",
   "metadata": {},
   "outputs": [],
   "source": [
    "age_mapping = {\n",
    "    '18 - 34': 0,\n",
    "    '35-37': 1,\n",
    "    '38-39': 2,\n",
    "    '40-42': 3,\n",
    "    '43-44': 4,\n",
    "    '45-50': 5\n",
    "}\n",
    "\n",
    "prep_df['Patient Age at Treatment'] = prep_df['Patient Age at Treatment'].map(age_mapping)"
   ]
  },
  {
   "cell_type": "code",
   "execution_count": 15,
   "id": "6816e580",
   "metadata": {},
   "outputs": [
    {
     "data": {
      "text/plain": [
       "array([0, 1, 2, 5, 3, 4])"
      ]
     },
     "execution_count": 15,
     "metadata": {},
     "output_type": "execute_result"
    }
   ],
   "source": [
    "prep_df['Patient Age at Treatment'].unique()"
   ]
  },
  {
   "cell_type": "markdown",
   "id": "9703c8f9",
   "metadata": {},
   "source": [
    "### Label : Live Birth Occurrence"
   ]
  },
  {
   "cell_type": "markdown",
   "id": "00b3143a",
   "metadata": {},
   "source": [
    "Yang menjadi target/label pada dataset ini adalah **Live Birth Occurrence**, namun karena labelnya berisi **1** dan **nan**, dengan arti\n",
    "**1** = program bayi tabungnya berhasil\n",
    "*nan** = program bayi tabung tidak berhasil\n",
    "\n",
    "Namun disini *nan* itu sangat rancu sekali, dikhawatirkan ada *nan* yang sesungguhnya (tidak punya label). Jadi perlu di-compare dengan **Number of Live Births**, jika **Number of Live Births** > 0, maka **Live Birth Occurrence** = 1, selain itu 0"
   ]
  },
  {
   "cell_type": "code",
   "execution_count": 16,
   "id": "7d14b79a",
   "metadata": {},
   "outputs": [
    {
     "data": {
      "text/plain": [
       "array([ 1., nan])"
      ]
     },
     "execution_count": 16,
     "metadata": {},
     "output_type": "execute_result"
    }
   ],
   "source": [
    "prep_df['Live Birth Occurrence'].unique()"
   ]
  },
  {
   "cell_type": "code",
   "execution_count": 17,
   "id": "9ec85dbf",
   "metadata": {},
   "outputs": [
    {
     "data": {
      "text/plain": [
       "array([2, 0, 1, 3, 4])"
      ]
     },
     "execution_count": 17,
     "metadata": {},
     "output_type": "execute_result"
    }
   ],
   "source": [
    "prep_df['Number of Live Births'].unique()"
   ]
  },
  {
   "cell_type": "code",
   "execution_count": 18,
   "id": "934d4cfa",
   "metadata": {},
   "outputs": [
    {
     "data": {
      "text/plain": [
       "0"
      ]
     },
     "execution_count": 18,
     "metadata": {},
     "output_type": "execute_result"
    }
   ],
   "source": [
    "# cek apakah ada yang Live Birth Occurrence = 1, tapi Number of Live Births = 0\n",
    "len(prep_df[\n",
    "    (prep_df['Live Birth Occurrence'] == 1)\n",
    "    & (prep_df['Number of Live Births'] == 0)\n",
    "])"
   ]
  },
  {
   "cell_type": "code",
   "execution_count": 19,
   "id": "1db86384",
   "metadata": {},
   "outputs": [
    {
     "data": {
      "text/plain": [
       "0"
      ]
     },
     "execution_count": 19,
     "metadata": {},
     "output_type": "execute_result"
    }
   ],
   "source": [
    "# cek apakah ada yang Live Birth Occurrence = nan, tapi Number of Live Births > 0\n",
    "len(prep_df[\n",
    "    (prep_df['Live Birth Occurrence'].isnull())\n",
    "    & (prep_df['Number of Live Births'] > 0)\n",
    "])"
   ]
  },
  {
   "cell_type": "markdown",
   "id": "c09f5a86",
   "metadata": {},
   "source": [
    "Dari pengecekan di atas, dapat disimpulkan bahwa semua data tidak ada yang tidak punya label. Tinggal mengubah label **nan** menjadi **0**"
   ]
  },
  {
   "cell_type": "code",
   "execution_count": 20,
   "id": "f63ef255",
   "metadata": {},
   "outputs": [],
   "source": [
    "prep_df['Live Birth Occurrence'] = prep_df['Live Birth Occurrence'].fillna(0)"
   ]
  },
  {
   "cell_type": "code",
   "execution_count": 21,
   "id": "eec36b76",
   "metadata": {},
   "outputs": [
    {
     "data": {
      "text/plain": [
       "array([1., 0.])"
      ]
     },
     "execution_count": 21,
     "metadata": {},
     "output_type": "execute_result"
    }
   ],
   "source": [
    "prep_df['Live Birth Occurrence'].unique()"
   ]
  },
  {
   "cell_type": "code",
   "execution_count": 22,
   "id": "55f52d37",
   "metadata": {},
   "outputs": [],
   "source": [
    "# hapus column Number of Live Births, karena sudah diwakilkan oleh Live Birth Occurrence\n",
    "prep_df = prep_df.drop('Number of Live Births', axis=1)"
   ]
  },
  {
   "cell_type": "markdown",
   "id": "c3243743",
   "metadata": {},
   "source": [
    "### Data tidak lengkap"
   ]
  },
  {
   "cell_type": "code",
   "execution_count": 23,
   "id": "f17151a2",
   "metadata": {},
   "outputs": [
    {
     "name": "stdout",
     "output_type": "stream",
     "text": [
      "<class 'pandas.core.frame.DataFrame'>\n",
      "Int64Index: 489787 entries, 0 to 158518\n",
      "Data columns (total 26 columns):\n",
      " #   Column                                               Non-Null Count   Dtype  \n",
      "---  ------                                               --------------   -----  \n",
      " 0   Patient Age at Treatment                             489787 non-null  int64  \n",
      " 1   Total Number of Previous IVF cycles                  489787 non-null  object \n",
      " 2   Total number of IVF pregnancies                      489787 non-null  object \n",
      " 3   Total number of live births - conceived through IVF  489787 non-null  int64  \n",
      " 4   Type of Infertility - Female Primary                 489787 non-null  int64  \n",
      " 5   Type of Infertility - Female Secondary               489787 non-null  int64  \n",
      " 6   Type of Infertility - Male Primary                   489787 non-null  int64  \n",
      " 7   Type of Infertility - Male Secondary                 489787 non-null  int64  \n",
      " 8   Type of Infertility -Couple Primary                  489787 non-null  int64  \n",
      " 9   Type of Infertility -Couple Secondary                489787 non-null  int64  \n",
      " 10  Cause  of Infertility - Tubal disease                489787 non-null  int64  \n",
      " 11  Cause of Infertility - Ovulatory Disorder            489787 non-null  int64  \n",
      " 12  Cause of Infertility - Male Factor                   489787 non-null  int64  \n",
      " 13  Cause of Infertility - Patient Unexplained           489787 non-null  int64  \n",
      " 14  Cause of Infertility - Endometriosis                 489787 non-null  int64  \n",
      " 15  Cause of Infertility - Cervical factors              489787 non-null  int64  \n",
      " 16  Cause of Infertility - Partner Sperm Concentration   489787 non-null  int64  \n",
      " 17  Cause of Infertility -  Partner Sperm Morphology     489787 non-null  int64  \n",
      " 18  Causes of Infertility - Partner Sperm Motility       489787 non-null  int64  \n",
      " 19  Fresh Cycle                                          457517 non-null  float64\n",
      " 20  Frozen Cycle                                         457517 non-null  float64\n",
      " 21  Eggs Thawed                                          457517 non-null  float64\n",
      " 22  Fresh Eggs Collected                                 457517 non-null  object \n",
      " 23  Eggs Mixed With Partner Sperm                        457517 non-null  object \n",
      " 24  Embryos Transfered                                   457517 non-null  float64\n",
      " 25  Live Birth Occurrence                                489787 non-null  float64\n",
      "dtypes: float64(5), int64(17), object(4)\n",
      "memory usage: 100.9+ MB\n"
     ]
    }
   ],
   "source": [
    "prep_df.info()"
   ]
  },
  {
   "cell_type": "markdown",
   "id": "e14d9929",
   "metadata": {},
   "source": [
    "dari data di atas dapat dilihat ada data yang tidak lengkap dengan jumlah yang sama, yaitu feature:\n",
    "1. Fresh Cycle\n",
    "2. Frozen Cycle\n",
    "3. Eggs Thawed\n",
    "4. Fresh Eggs Collected\n",
    "5. Eggs Mixed With Partner Sperm\n",
    "6. Embryos Transfered"
   ]
  },
  {
   "cell_type": "code",
   "execution_count": 24,
   "id": "45fc9ef2",
   "metadata": {},
   "outputs": [
    {
     "data": {
      "text/plain": [
       "True"
      ]
     },
     "execution_count": 24,
     "metadata": {},
     "output_type": "execute_result"
    }
   ],
   "source": [
    "# cek apakah semua data null berada pada index yang sama\n",
    "(\n",
    "    list(prep_df[prep_df['Fresh Cycle'].isnull()].index)\n",
    "    == list(prep_df[prep_df['Frozen Cycle'].isnull()].index)\n",
    "    == list(prep_df[prep_df['Eggs Thawed'].isnull()].index)\n",
    "    == list(prep_df[prep_df['Fresh Eggs Collected'].isnull()].index)\n",
    "    == list(prep_df[prep_df['Eggs Mixed With Partner Sperm'].isnull()].index)\n",
    "    == list(prep_df[prep_df['Embryos Transfered'].isnull()].index)\n",
    ")"
   ]
  },
  {
   "cell_type": "markdown",
   "id": "9503cf17",
   "metadata": {},
   "source": [
    "Dari kode di atas, dapat disimpulkan bahwa data tidak lengkap berada pada index yang sama"
   ]
  },
  {
   "cell_type": "code",
   "execution_count": 25,
   "id": "1ca3699f",
   "metadata": {},
   "outputs": [
    {
     "data": {
      "text/plain": [
       "32270"
      ]
     },
     "execution_count": 25,
     "metadata": {},
     "output_type": "execute_result"
    }
   ],
   "source": [
    "# total data tidak lengkap\n",
    "len(prep_df[prep_df['Fresh Cycle'].isnull()])"
   ]
  },
  {
   "cell_type": "code",
   "execution_count": 26,
   "id": "95fdc852",
   "metadata": {},
   "outputs": [
    {
     "data": {
      "text/plain": [
       "6.58857830036322"
      ]
     },
     "execution_count": 26,
     "metadata": {},
     "output_type": "execute_result"
    }
   ],
   "source": [
    "# persentase data tidak lengkap\n",
    "len(prep_df[prep_df['Fresh Cycle'].isnull()]) / len(prep_df) * 100"
   ]
  },
  {
   "cell_type": "markdown",
   "id": "a4b7ba6a",
   "metadata": {},
   "source": [
    "karena persentase data yang tidak lengkap cukup kecil yaitu 6%, maka biar mudah data yang tidak dihapus saja :)"
   ]
  },
  {
   "cell_type": "code",
   "execution_count": 27,
   "id": "04698b60",
   "metadata": {},
   "outputs": [],
   "source": [
    "prep_df = prep_df[prep_df['Fresh Cycle'].notnull()]"
   ]
  },
  {
   "cell_type": "code",
   "execution_count": 28,
   "id": "d9926f8c",
   "metadata": {},
   "outputs": [
    {
     "name": "stdout",
     "output_type": "stream",
     "text": [
      "<class 'pandas.core.frame.DataFrame'>\n",
      "Int64Index: 457517 entries, 8214 to 148105\n",
      "Data columns (total 26 columns):\n",
      " #   Column                                               Non-Null Count   Dtype  \n",
      "---  ------                                               --------------   -----  \n",
      " 0   Patient Age at Treatment                             457517 non-null  int64  \n",
      " 1   Total Number of Previous IVF cycles                  457517 non-null  object \n",
      " 2   Total number of IVF pregnancies                      457517 non-null  object \n",
      " 3   Total number of live births - conceived through IVF  457517 non-null  int64  \n",
      " 4   Type of Infertility - Female Primary                 457517 non-null  int64  \n",
      " 5   Type of Infertility - Female Secondary               457517 non-null  int64  \n",
      " 6   Type of Infertility - Male Primary                   457517 non-null  int64  \n",
      " 7   Type of Infertility - Male Secondary                 457517 non-null  int64  \n",
      " 8   Type of Infertility -Couple Primary                  457517 non-null  int64  \n",
      " 9   Type of Infertility -Couple Secondary                457517 non-null  int64  \n",
      " 10  Cause  of Infertility - Tubal disease                457517 non-null  int64  \n",
      " 11  Cause of Infertility - Ovulatory Disorder            457517 non-null  int64  \n",
      " 12  Cause of Infertility - Male Factor                   457517 non-null  int64  \n",
      " 13  Cause of Infertility - Patient Unexplained           457517 non-null  int64  \n",
      " 14  Cause of Infertility - Endometriosis                 457517 non-null  int64  \n",
      " 15  Cause of Infertility - Cervical factors              457517 non-null  int64  \n",
      " 16  Cause of Infertility - Partner Sperm Concentration   457517 non-null  int64  \n",
      " 17  Cause of Infertility -  Partner Sperm Morphology     457517 non-null  int64  \n",
      " 18  Causes of Infertility - Partner Sperm Motility       457517 non-null  int64  \n",
      " 19  Fresh Cycle                                          457517 non-null  float64\n",
      " 20  Frozen Cycle                                         457517 non-null  float64\n",
      " 21  Eggs Thawed                                          457517 non-null  float64\n",
      " 22  Fresh Eggs Collected                                 457517 non-null  object \n",
      " 23  Eggs Mixed With Partner Sperm                        457517 non-null  object \n",
      " 24  Embryos Transfered                                   457517 non-null  float64\n",
      " 25  Live Birth Occurrence                                457517 non-null  float64\n",
      "dtypes: float64(5), int64(17), object(4)\n",
      "memory usage: 94.2+ MB\n"
     ]
    }
   ],
   "source": [
    "prep_df.info()"
   ]
  },
  {
   "cell_type": "markdown",
   "id": "36718755",
   "metadata": {},
   "source": [
    "### Masih ada data object"
   ]
  },
  {
   "cell_type": "code",
   "execution_count": 29,
   "id": "f027f81e",
   "metadata": {},
   "outputs": [
    {
     "data": {
      "text/plain": [
       "array(['3', '2', '0', '1', '4', '>=5', '5'], dtype=object)"
      ]
     },
     "execution_count": 29,
     "metadata": {},
     "output_type": "execute_result"
    }
   ],
   "source": [
    "prep_df['Total Number of Previous IVF cycles'].unique()"
   ]
  },
  {
   "cell_type": "code",
   "execution_count": 30,
   "id": "3c8492a2",
   "metadata": {},
   "outputs": [
    {
     "data": {
      "text/plain": [
       "array([1, 0, 2, 5, 4, 3, '0', '1', '2', '4', '3', '5', '>=5'],\n",
       "      dtype=object)"
      ]
     },
     "execution_count": 30,
     "metadata": {},
     "output_type": "execute_result"
    }
   ],
   "source": [
    "prep_df['Total number of IVF pregnancies'].unique()"
   ]
  },
  {
   "cell_type": "code",
   "execution_count": 31,
   "id": "e1c1e943",
   "metadata": {},
   "outputs": [
    {
     "data": {
      "text/plain": [
       "array(['0', '19', '13', '9', '2', '6', '10', '7', '1', '16', '15', '11',\n",
       "       '8', '26', '14', '22', '3', '5', '21', '18', '4', '28', '20', '12',\n",
       "       '17', '29', '27', '24', '23', '25', '30', '31', '38', '35', '32',\n",
       "       '40', '36', '33', '34', '42', '39', '44', '37', '43', '45', '50',\n",
       "       '47', '46', '> 50', '41', '49', '48'], dtype=object)"
      ]
     },
     "execution_count": 31,
     "metadata": {},
     "output_type": "execute_result"
    }
   ],
   "source": [
    "prep_df['Fresh Eggs Collected'].unique()"
   ]
  },
  {
   "cell_type": "code",
   "execution_count": 32,
   "id": "02e980e5",
   "metadata": {},
   "outputs": [
    {
     "data": {
      "text/plain": [
       "array(['0', '18', '13', '9', '2', '6', '10', '16', '15', '14', '8', '4',\n",
       "       '26', '12', '11', '22', '5', '21', '7', '19', '28', '17', '3',\n",
       "       '20', '23', '29', '1', '27', '25', '24', '35', '39', '36', '34',\n",
       "       '30', '42', '37', '33', '32', '38', '31', '50', '47', '46', '41',\n",
       "       '> 50', '44', '40', '43', '49', '45', '48'], dtype=object)"
      ]
     },
     "execution_count": 32,
     "metadata": {},
     "output_type": "execute_result"
    }
   ],
   "source": [
    "prep_df['Eggs Mixed With Partner Sperm'].unique()"
   ]
  },
  {
   "cell_type": "code",
   "execution_count": 33,
   "id": "b2f3bac4",
   "metadata": {},
   "outputs": [
    {
     "data": {
      "text/plain": [
       "14067"
      ]
     },
     "execution_count": 33,
     "metadata": {},
     "output_type": "execute_result"
    }
   ],
   "source": [
    "len(prep_df[prep_df['Total Number of Previous IVF cycles'] == '>=5'])"
   ]
  },
  {
   "cell_type": "code",
   "execution_count": 34,
   "id": "c28f1d00",
   "metadata": {},
   "outputs": [
    {
     "data": {
      "text/plain": [
       "3.074639849448217"
      ]
     },
     "execution_count": 34,
     "metadata": {},
     "output_type": "execute_result"
    }
   ],
   "source": [
    "len(prep_df[prep_df['Total Number of Previous IVF cycles'] == '>=5']) / len(prep_df) * 100"
   ]
  },
  {
   "cell_type": "code",
   "execution_count": 35,
   "id": "da8c7b54",
   "metadata": {},
   "outputs": [
    {
     "data": {
      "text/plain": [
       "1"
      ]
     },
     "execution_count": 35,
     "metadata": {},
     "output_type": "execute_result"
    }
   ],
   "source": [
    "len(prep_df[prep_df['Total number of IVF pregnancies'] == '>=5'])"
   ]
  },
  {
   "cell_type": "code",
   "execution_count": 36,
   "id": "8a72b2c4",
   "metadata": {},
   "outputs": [
    {
     "data": {
      "text/plain": [
       "89"
      ]
     },
     "execution_count": 36,
     "metadata": {},
     "output_type": "execute_result"
    }
   ],
   "source": [
    "len(prep_df[prep_df['Fresh Eggs Collected'] == '> 50'])"
   ]
  },
  {
   "cell_type": "code",
   "execution_count": 37,
   "id": "f082b6f7",
   "metadata": {},
   "outputs": [
    {
     "data": {
      "text/plain": [
       "36"
      ]
     },
     "execution_count": 37,
     "metadata": {},
     "output_type": "execute_result"
    }
   ],
   "source": [
    "len(prep_df[prep_df['Eggs Mixed With Partner Sperm'] == '> 50'])"
   ]
  },
  {
   "cell_type": "markdown",
   "id": "2d0dcfd1",
   "metadata": {},
   "source": [
    "karena data feature **Total Number of Previous IVF cycles** yang nilainya **>=5** cukup kecil (hanya 3%). Dan 3 feature lainnya (yang punya data dengan sign '>') sangat kecil, dan bingung mau diapakan, maka lagi-lagi dihapus saja :)"
   ]
  },
  {
   "cell_type": "code",
   "execution_count": 38,
   "id": "b403cfa8",
   "metadata": {},
   "outputs": [],
   "source": [
    "prep_df = prep_df[prep_df['Total Number of Previous IVF cycles'] != '>=5']\n",
    "prep_df = prep_df[prep_df['Total number of IVF pregnancies'] != '>=5']\n",
    "prep_df = prep_df[prep_df['Fresh Eggs Collected'] != '> 50']\n",
    "prep_df = prep_df[prep_df['Eggs Mixed With Partner Sperm'] != '> 50']"
   ]
  },
  {
   "cell_type": "code",
   "execution_count": 39,
   "id": "9b9dd7df",
   "metadata": {},
   "outputs": [],
   "source": [
    "# ubah data object menjadi int\n",
    "prep_df['Total Number of Previous IVF cycles'] = pd.to_numeric(prep_df['Total Number of Previous IVF cycles'])\n",
    "prep_df['Total number of IVF pregnancies'] = pd.to_numeric(prep_df['Total number of IVF pregnancies'])\n",
    "prep_df['Fresh Eggs Collected'] = pd.to_numeric(prep_df['Fresh Eggs Collected'])\n",
    "prep_df['Eggs Mixed With Partner Sperm'] = pd.to_numeric(prep_df['Eggs Mixed With Partner Sperm'])"
   ]
  },
  {
   "cell_type": "code",
   "execution_count": 40,
   "id": "9cf28a27",
   "metadata": {},
   "outputs": [
    {
     "name": "stdout",
     "output_type": "stream",
     "text": [
      "<class 'pandas.core.frame.DataFrame'>\n",
      "Int64Index: 443361 entries, 8214 to 148105\n",
      "Data columns (total 26 columns):\n",
      " #   Column                                               Non-Null Count   Dtype  \n",
      "---  ------                                               --------------   -----  \n",
      " 0   Patient Age at Treatment                             443361 non-null  int64  \n",
      " 1   Total Number of Previous IVF cycles                  443361 non-null  int64  \n",
      " 2   Total number of IVF pregnancies                      443361 non-null  int64  \n",
      " 3   Total number of live births - conceived through IVF  443361 non-null  int64  \n",
      " 4   Type of Infertility - Female Primary                 443361 non-null  int64  \n",
      " 5   Type of Infertility - Female Secondary               443361 non-null  int64  \n",
      " 6   Type of Infertility - Male Primary                   443361 non-null  int64  \n",
      " 7   Type of Infertility - Male Secondary                 443361 non-null  int64  \n",
      " 8   Type of Infertility -Couple Primary                  443361 non-null  int64  \n",
      " 9   Type of Infertility -Couple Secondary                443361 non-null  int64  \n",
      " 10  Cause  of Infertility - Tubal disease                443361 non-null  int64  \n",
      " 11  Cause of Infertility - Ovulatory Disorder            443361 non-null  int64  \n",
      " 12  Cause of Infertility - Male Factor                   443361 non-null  int64  \n",
      " 13  Cause of Infertility - Patient Unexplained           443361 non-null  int64  \n",
      " 14  Cause of Infertility - Endometriosis                 443361 non-null  int64  \n",
      " 15  Cause of Infertility - Cervical factors              443361 non-null  int64  \n",
      " 16  Cause of Infertility - Partner Sperm Concentration   443361 non-null  int64  \n",
      " 17  Cause of Infertility -  Partner Sperm Morphology     443361 non-null  int64  \n",
      " 18  Causes of Infertility - Partner Sperm Motility       443361 non-null  int64  \n",
      " 19  Fresh Cycle                                          443361 non-null  float64\n",
      " 20  Frozen Cycle                                         443361 non-null  float64\n",
      " 21  Eggs Thawed                                          443361 non-null  float64\n",
      " 22  Fresh Eggs Collected                                 443361 non-null  int64  \n",
      " 23  Eggs Mixed With Partner Sperm                        443361 non-null  int64  \n",
      " 24  Embryos Transfered                                   443361 non-null  float64\n",
      " 25  Live Birth Occurrence                                443361 non-null  float64\n",
      "dtypes: float64(5), int64(21)\n",
      "memory usage: 91.3 MB\n"
     ]
    }
   ],
   "source": [
    "prep_df.info()"
   ]
  },
  {
   "cell_type": "markdown",
   "id": "9df35ec5",
   "metadata": {},
   "source": [
    "## Spliting data"
   ]
  },
  {
   "cell_type": "code",
   "execution_count": 41,
   "id": "85c4e669",
   "metadata": {},
   "outputs": [],
   "source": [
    "x = prep_df.drop(['Live Birth Occurrence'], axis = 1)\n",
    "y = prep_df['Live Birth Occurrence'].astype(int)"
   ]
  },
  {
   "cell_type": "code",
   "execution_count": 42,
   "id": "2f3c06d9",
   "metadata": {},
   "outputs": [],
   "source": [
    "x_train, x_test, y_train, y_test = train_test_split(x, y, test_size=0.2, random_state=6)\n",
    "x_test, x_valid, y_test, y_valid = train_test_split(x_test, y_test, test_size=0.2, random_state=6)"
   ]
  },
  {
   "cell_type": "code",
   "execution_count": 43,
   "id": "1ba89f89",
   "metadata": {},
   "outputs": [
    {
     "data": {
      "text/plain": [
       "354688"
      ]
     },
     "execution_count": 43,
     "metadata": {},
     "output_type": "execute_result"
    }
   ],
   "source": [
    "len(x_train)"
   ]
  },
  {
   "cell_type": "code",
   "execution_count": 44,
   "id": "03bdf68b",
   "metadata": {},
   "outputs": [
    {
     "data": {
      "text/plain": [
       "70938"
      ]
     },
     "execution_count": 44,
     "metadata": {},
     "output_type": "execute_result"
    }
   ],
   "source": [
    "len(x_test)"
   ]
  },
  {
   "cell_type": "code",
   "execution_count": 45,
   "id": "608865d9",
   "metadata": {},
   "outputs": [
    {
     "data": {
      "text/plain": [
       "17735"
      ]
     },
     "execution_count": 45,
     "metadata": {},
     "output_type": "execute_result"
    }
   ],
   "source": [
    "len(x_valid)"
   ]
  },
  {
   "cell_type": "code",
   "execution_count": 46,
   "id": "d3777276",
   "metadata": {},
   "outputs": [
    {
     "data": {
      "text/plain": [
       "331131"
      ]
     },
     "execution_count": 46,
     "metadata": {},
     "output_type": "execute_result"
    }
   ],
   "source": [
    "len(prep_df[prep_df['Live Birth Occurrence'] == 0])"
   ]
  },
  {
   "cell_type": "code",
   "execution_count": 47,
   "id": "6bed1403",
   "metadata": {},
   "outputs": [
    {
     "data": {
      "text/plain": [
       "112230"
      ]
     },
     "execution_count": 47,
     "metadata": {},
     "output_type": "execute_result"
    }
   ],
   "source": [
    "len(prep_df[prep_df['Live Birth Occurrence'] == 1])"
   ]
  },
  {
   "cell_type": "code",
   "execution_count": 48,
   "id": "89c2e615",
   "metadata": {},
   "outputs": [
    {
     "data": {
      "text/plain": [
       "0.2531345788195173"
      ]
     },
     "execution_count": 48,
     "metadata": {},
     "output_type": "execute_result"
    }
   ],
   "source": [
    "len(prep_df[prep_df['Live Birth Occurrence'] == 1]) / len(prep_df)"
   ]
  },
  {
   "cell_type": "markdown",
   "id": "aefbe00d",
   "metadata": {},
   "source": [
    "## Modelling\n",
    "referensi : https://www.kaggle.com/code/funxexcel/p3-random-forest-tuning-randomizedsearchcv/notebook\n"
   ]
  },
  {
   "cell_type": "code",
   "execution_count": 49,
   "id": "44e542f6",
   "metadata": {},
   "outputs": [],
   "source": [
    "# Number of trees in random forest\n",
    "n_estimators = [int(x) for x in np.linspace(10, 80, 10)]\n",
    "# Number of features to consider at every split\n",
    "max_features = ['auto', 'sqrt']\n",
    "# Maximum number of levels in tree\n",
    "max_depth = [2, 4]\n",
    "# Minimum number of samples required to split a node\n",
    "min_samples_split = [2, 5]\n",
    "# Minimum number of samples required at each leaf node\n",
    "min_samples_leaf = [1, 2]\n",
    "# Method of selecting samples for training each tree\n",
    "bootstrap = [True, False]\n",
    "\n",
    "# Create the param grid\n",
    "param_grid = {'n_estimators': n_estimators,\n",
    "              'max_features': max_features,\n",
    "              'max_depth': max_depth,\n",
    "              'min_samples_split': min_samples_split,\n",
    "              'min_samples_leaf': min_samples_leaf,\n",
    "              'bootstrap': bootstrap}\n",
    "\n",
    "rf_Model = RandomForestClassifier()\n",
    "\n",
    "rf_RandomGrid = RandomizedSearchCV(estimator=rf_Model, param_distributions=param_grid,\n",
    "                                   scoring='f1_micro', cv=10, verbose=2, n_jobs=4)"
   ]
  },
  {
   "cell_type": "code",
   "execution_count": 50,
   "id": "9a83ad08",
   "metadata": {},
   "outputs": [
    {
     "name": "stdout",
     "output_type": "stream",
     "text": [
      "Fitting 10 folds for each of 10 candidates, totalling 100 fits\n"
     ]
    },
    {
     "data": {
      "text/plain": [
       "RandomizedSearchCV(cv=10, estimator=RandomForestClassifier(), n_jobs=4,\n",
       "                   param_distributions={'bootstrap': [True, False],\n",
       "                                        'max_depth': [2, 4],\n",
       "                                        'max_features': ['auto', 'sqrt'],\n",
       "                                        'min_samples_leaf': [1, 2],\n",
       "                                        'min_samples_split': [2, 5],\n",
       "                                        'n_estimators': [10, 17, 25, 33, 41, 48,\n",
       "                                                         56, 64, 72, 80]},\n",
       "                   scoring='f1_micro', verbose=2)"
      ]
     },
     "execution_count": 50,
     "metadata": {},
     "output_type": "execute_result"
    }
   ],
   "source": [
    "rf_RandomGrid.fit(x_train, y_train)"
   ]
  },
  {
   "cell_type": "code",
   "execution_count": 51,
   "id": "a2422bc9",
   "metadata": {},
   "outputs": [
    {
     "data": {
      "text/plain": [
       "{'n_estimators': 25,\n",
       " 'min_samples_split': 2,\n",
       " 'min_samples_leaf': 2,\n",
       " 'max_features': 'sqrt',\n",
       " 'max_depth': 4,\n",
       " 'bootstrap': False}"
      ]
     },
     "execution_count": 51,
     "metadata": {},
     "output_type": "execute_result"
    }
   ],
   "source": [
    "rf_RandomGrid.best_params_"
   ]
  },
  {
   "cell_type": "code",
   "execution_count": 52,
   "id": "adf57855",
   "metadata": {},
   "outputs": [
    {
     "name": "stdout",
     "output_type": "stream",
     "text": [
      "Train F1-score : 0.746\n",
      "Test F1-score - : 0.749\n",
      "Validate F1-score - : 0.751\n"
     ]
    }
   ],
   "source": [
    "print (f'Train F1-score : {rf_RandomGrid.score(x_train, y_train):.3f}')\n",
    "print (f'Test F1-score - : {rf_RandomGrid.score(x_test, y_test):.3f}')\n",
    "print (f'Validate F1-score - : {rf_RandomGrid.score(x_valid, y_valid):.3f}')"
   ]
  },
  {
   "cell_type": "code",
   "execution_count": 78,
   "id": "c5ced29f",
   "metadata": {},
   "outputs": [
    {
     "data": {
      "text/plain": [
       "['../output/model/train/model.pkl']"
      ]
     },
     "execution_count": 78,
     "metadata": {},
     "output_type": "execute_result"
    }
   ],
   "source": [
    "# Dump model\n",
    "joblib.dump(rf_RandomGrid, '../output/model/train/model.pkl')"
   ]
  },
  {
   "cell_type": "code",
   "execution_count": null,
   "id": "12779a1b",
   "metadata": {},
   "outputs": [],
   "source": []
  }
 ],
 "metadata": {
  "kernelspec": {
   "display_name": "Python 3 (ipykernel)",
   "language": "python",
   "name": "python3"
  },
  "language_info": {
   "codemirror_mode": {
    "name": "ipython",
    "version": 3
   },
   "file_extension": ".py",
   "mimetype": "text/x-python",
   "name": "python",
   "nbconvert_exporter": "python",
   "pygments_lexer": "ipython3",
   "version": "3.7.11"
  }
 },
 "nbformat": 4,
 "nbformat_minor": 5
}
